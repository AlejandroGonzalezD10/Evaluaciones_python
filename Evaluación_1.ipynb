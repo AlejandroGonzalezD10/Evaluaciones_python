{
  "nbformat": 4,
  "nbformat_minor": 0,
  "metadata": {
    "colab": {
      "provenance": [],
      "authorship_tag": "ABX9TyOpzd8My305Gn4NUqztt4Pv",
      "include_colab_link": true
    },
    "kernelspec": {
      "name": "python3",
      "display_name": "Python 3"
    },
    "language_info": {
      "name": "python"
    }
  },
  "cells": [
    {
      "cell_type": "markdown",
      "metadata": {
        "id": "view-in-github",
        "colab_type": "text"
      },
      "source": [
        "<a href=\"https://colab.research.google.com/github/AlejandroGonzalezD10/Evaluaciones_python/blob/main/Evaluaci%C3%B3n_1.ipynb\" target=\"_parent\"><img src=\"https://colab.research.google.com/assets/colab-badge.svg\" alt=\"Open In Colab\"/></a>"
      ]
    },
    {
      "cell_type": "markdown",
      "source": [
        "#Evaluación 1\n",
        "\n",
        "## Python aplicado a la ingenieria 202520\n",
        "\n",
        "**Docente**: Miguel Angel Ortiz Padilla\n",
        "\n",
        "**Estudiante**: Alejandro González Díaz\n",
        "\n",
        "**Correo**: alejandro.gonzalezd@upb.edu.co\n",
        "\n",
        "**Fecha**: 30 de julio de 2025\n",
        "\n"
      ],
      "metadata": {
        "id": "yxS5BJRspQrn"
      }
    },
    {
      "cell_type": "markdown",
      "source": [
        "**Problem #1: letter_frequency**\n",
        "\n",
        "Write a program that receives a sentence from the user and displays how many times each unique\n",
        "letter appears. Ignore spaces and make the comparison case-insensitive (i.e., treat 'A' and 'a' as the\n",
        "same letter).\n",
        "\n",
        "**Bonus:** Display the results sorted from the most frequent to the least frequent letter."
      ],
      "metadata": {
        "id": "xN70yfoop3ou"
      }
    },
    {
      "cell_type": "code",
      "execution_count": null,
      "metadata": {
        "id": "Bwy80zdomtDZ"
      },
      "outputs": [],
      "source": [
        "#El usuario debe escribir una frase inicial\n",
        "frase = \"Jose ayer se cayo de la cama mientras dormia\"\n",
        "\n",
        "#.lower() es para no diferenciar entre mayusculas y minusculas y .replace() es para omitir espacios\n",
        "frase_final = frase.lower().replace(\" \", \"\")\n",
        "\n",
        "#se usara conteo_letras {} como diccionario para hacer el conteo\n",
        "conteo_letras = {}\n",
        "\n",
        "for letra in frase_final: # se usa \"for\" para revisar todos los caraasteres de la frase\n",
        "  if letra.isalpha(): #.isalpha se usa para que solo cuente letras\n",
        "    if letra in conteo_letras:\n",
        "        conteo_letras[letra] += 1 #si la letra ya fue contada se incrementa su numero de apariciones en la frase\n",
        "    else:\n",
        "        conteo_letras[letra] = 1 # si la letra no ha sido contada, se comenzara a contar a partir de 1\n",
        "\n",
        "\n",
        "print(\"conteo total de letras\")\n",
        "for letra, cantidad in conteo_letras.items():#se usa .items() para dar a cada letra su valor correspondiente\n",
        "            print(f\"{letra}: {cantidad}\") #el f\" es para mostrar/proyectar el valor de la variable y no el nombre de la variable\n",
        "\n",
        "\n",
        "\n",
        "\n",
        "\n"
      ]
    },
    {
      "cell_type": "markdown",
      "source": [
        "**Problem #2: word_initial_count**\n",
        "\n",
        "Write a program that receives a list of words and counts how many of them start with the same initial\n",
        "letter. Ignore case sensitivity."
      ],
      "metadata": {
        "id": "NNBXAW58zJg3"
      }
    },
    {
      "cell_type": "code",
      "source": [
        "# se usa corchete cuando es una lista en este caso de palabras\n",
        "palabra = [\"Perro\", \"Mono\", \"paleta\", \"siete\", \"saber\", \"mano\", \"gato\", \"simio\"]\n",
        "\n",
        "conteo_iniciales = {} # el diccionario que contara las iniciales de cada palabra\n",
        "for inicial in palabra: #revisara todos los caracteres iniciales de la lista\n",
        " if palabra:\n",
        "  inicial = inicial[0].lower() #.lower() es para no diferenciar entre mayusculas y minusculas ñlas iniciales\n",
        "  if inicial in conteo_iniciales:\n",
        "    conteo_iniciales[inicial] += 1 #si la letra ya fue contada se incrementa su numero de apariciones en la frase\n",
        "  else:\n",
        "    conteo_iniciales[inicial] = 1 #si no ha sido contada, empezara a contar empezando por 1\n",
        "\n",
        "\n",
        "print(\"conteo de iniciales\")\n",
        "for inicial, cantidad in conteo_iniciales.items(): #se usa .items() para dar a cada letra su valor correspondiente\n",
        "    print(f\"{inicial}: {cantidad}\") #el f\" es para mostrar/proyectar el valor que le corresponde a la variable\n",
        "\n"
      ],
      "metadata": {
        "id": "nX-cjztYzIcw"
      },
      "execution_count": null,
      "outputs": []
    }
  ]
}